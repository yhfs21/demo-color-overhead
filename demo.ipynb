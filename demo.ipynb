{
 "cells": [
  {
   "cell_type": "code",
   "execution_count": 1,
   "metadata": {},
   "outputs": [
    {
     "name": "stdout",
     "output_type": "stream",
     "text": [
      "太陽高度: 4.8度\n",
      "RGB値: [248 248 248]\n"
     ]
    },
    {
     "data": {
      "image/png": "[encoded data removed]",
      "text/plain": [
       "<Figure size 400x400 with 1 Axes>"
      ]
     },
     "metadata": {},
     "output_type": "display_data"
    }
   ],
   "source": [
    "import numpy as np\n",
    "import matplotlib.pyplot as plt\n",
    "from astral.sun import elevation\n",
    "from astral import LocationInfo\n",
    "from datetime import datetime, timezone, timedelta\n",
    "\n",
    "# 大気のパラメータ\n",
    "RAYLEIGH_SCATTER_CONST = 0.0025  # レイリー散乱定数の簡易モデル\n",
    "\n",
    "# 緯度と経度、現在の時刻を指定（例として東京）\n",
    "city = LocationInfo(\"Tokyo\", \"Japan\", \"Asia/Tokyo\", 35.6895, 139.6917)\n",
    "# now = datetime.now()\n",
    "now = datetime(2024, 9, 27, 6, 0, 0, tzinfo=timezone(timedelta(hours=9)))\n",
    "\n",
    "# 太陽の位置を計算\n",
    "sun_altitude = elevation(city.observer, now)  # 太陽高度（度）\n",
    "\n",
    "# 太陽高度が負の場合（夜間）は黒に設定\n",
    "if sun_altitude < 0:\n",
    "    sky_rgb = np.array([0, 0, 0])  # 夜は黒\n",
    "else:\n",
    "    # レイリー散乱による青い空のモデル（簡易版）\n",
    "    # 太陽高度に基づいて空の色を変える\n",
    "    def rayleigh_scatter(wavelength, altitude):\n",
    "        return np.exp(-RAYLEIGH_SCATTER_CONST / (np.cos(np.radians(90 - altitude)) + 0.01))\n",
    "\n",
    "    # 波長に対応するRGB (赤: 650nm, 緑: 510nm, 青: 475nm) \n",
    "    wavelengths = {'R': 650, 'G': 510, 'B': 475}\n",
    "    \n",
    "    # 各波長に対して散乱を計算\n",
    "    scatter_factors = {color: rayleigh_scatter(wavelength, sun_altitude) for color, wavelength in wavelengths.items()}\n",
    "    \n",
    "    # RGB値を0~1に正規化\n",
    "    sky_rgb = [scatter_factors['R'], scatter_factors['G'], scatter_factors['B']]\n",
    "\n",
    "    # 0~1の範囲で計算したRGB値を0~255に変換\n",
    "    sky_rgb = np.clip(np.array(sky_rgb) * 255, 0, 255).astype(int)\n",
    "\n",
    "# 結果を表示\n",
    "print(f\"太陽高度: {sun_altitude:.1f}度\")\n",
    "print(f\"RGB値: {sky_rgb}\")\n",
    "\n",
    "# 結果をグラフで描画\n",
    "fig, ax = plt.subplots(figsize=(4, 4))\n",
    "ax.set_facecolor(sky_rgb / 255)  # 背景色に設定\n",
    "ax.set_xticks([]), ax.set_yticks([])  # 軸目盛を非表示\n",
    "plt.title(f\"Sky Color at {now}\\nLocation: {city.name}\", fontsize=14)\n",
    "plt.show()\n"
   ]
  },
  {
   "cell_type": "code",
   "execution_count": null,
   "metadata": {},
   "outputs": [],
   "source": []
  }
 ],
 "metadata": {
  "kernelspec": {
   "display_name": "venv",
   "language": "python",
   "name": "python3"
  },
  "language_info": {
   "codemirror_mode": {
    "name": "ipython",
    "version": 3
   },
   "file_extension": ".py",
   "mimetype": "text/x-python",
   "name": "python",
   "nbconvert_exporter": "python",
   "pygments_lexer": "ipython3",
   "version": "3.9.6"
  }
 },
 "nbformat": 4,
 "nbformat_minor": 2
}
